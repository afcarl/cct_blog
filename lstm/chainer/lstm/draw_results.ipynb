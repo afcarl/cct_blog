{
 "cells": [
  {
   "cell_type": "code",
   "execution_count": 1,
   "metadata": {},
   "outputs": [
    {
     "name": "stdout",
     "output_type": "stream",
     "text": [
      "use cpu\n"
     ]
    }
   ],
   "source": [
    "from lstm_using_chainer_with_fibonacci import *\n",
    "from params import *\n",
    "from chainer import serializers\n",
    "import chainer\n",
    "import numpy as np\n",
    "import matplotlib.pyplot as plt \n",
    "import _pickle\n",
    "from predict import *\n",
    "%matplotlib inline"
   ]
  },
  {
   "cell_type": "code",
   "execution_count": null,
   "metadata": {},
   "outputs": [],
   "source": [
    "PLOT_SIZE = 4 * SEQUENCE_SIZE"
   ]
  },
  {
   "cell_type": "code",
   "execution_count": null,
   "metadata": {},
   "outputs": [],
   "source": [
    "    # _/_/_/ モデルの読み込み\n",
    "\n",
    "    mynet = MyNet(N_IN, N_HIDDEN, N_OUT)\n",
    "    serializers.load_npz('chainer_mynet.npz', mynet)\n",
    "\n",
    "    # _/_/_/ データの作成\n",
    "\n",
    "    dataset = DatasetMaker.make(TOTAL_SIZE, VALUE)\n",
    "\n",
    "    # _/_/_/ 予測\n",
    "\n",
    "    output_seq = predict(mynet, dataset, SEQUENCE_SIZE)                      "
   ]
  },
  {
   "cell_type": "code",
   "execution_count": null,
   "metadata": {},
   "outputs": [],
   "source": [
    "    # _/_/_/ 視覚化\n",
    "    \n",
    "    # 予測した時系列データ\n",
    "    plt.figure(figsize=(15, 5))\n",
    "    plt.xlim([0, PLOT_SIZE])\n",
    "    plt.plot(dataset, linestyle='dotted', color='red')\n",
    "    plt.plot(output_seq, color='black')\n",
    "    plt.show()\n",
    "\n",
    "    # 誤差とエポックの間の関係\n",
    "    losses = _pickle.load(open('./chainer_losses.pkl', 'rb'))\n",
    "    val_losses = _pickle.load(open('./chainer_val_losses.pkl', 'rb'))\n",
    "    plt.figure(figsize=(10, 5))\n",
    "    plt.plot(losses, label='loss')\n",
    "    plt.plot(val_losses, label='val_loss')\n",
    "    plt.ylabel('Loss')\n",
    "    plt.xlabel('Epoch')\n",
    "    plt.legend()\n",
    "    plt.show()\n"
   ]
  },
  {
   "cell_type": "code",
   "execution_count": null,
   "metadata": {},
   "outputs": [],
   "source": []
  }
 ],
 "metadata": {
  "kernelspec": {
   "display_name": "Python 3",
   "language": "python",
   "name": "python3"
  },
  "language_info": {
   "codemirror_mode": {
    "name": "ipython",
    "version": 3
   },
   "file_extension": ".py",
   "mimetype": "text/x-python",
   "name": "python",
   "nbconvert_exporter": "python",
   "pygments_lexer": "ipython3",
   "version": "3.4.3"
  }
 },
 "nbformat": 4,
 "nbformat_minor": 2
}
